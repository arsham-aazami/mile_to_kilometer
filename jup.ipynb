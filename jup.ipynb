{
 "cells": [
  {
   "cell_type": "code",
   "execution_count": 4,
   "metadata": {},
   "outputs": [
    {
     "name": "stdout",
     "output_type": "stream",
     "text": [
      "\n"
     ]
    }
   ],
   "source": [
    "from tkinter import *\n",
    " \n",
    "window = Tk()\n",
    "window.title(\"Mile to Km convertor\")\n",
    "window.minsize(450, 450)\n",
    "window.config(padx=30, pady=30)\n",
    "\n",
    "mile_entrty = Entry(width=20)\n",
    "mile_entrty.grid(column=0, row=0)\n",
    "\n",
    "mile = mile_entrty.get()\n",
    "print(mile)\n",
    "lable = Label(text=\"Miles is equal to\", font=(\"lalezar\", 15))\n",
    "lable.grid(column=1, row=0)\n",
    "lable.config(padx=10, pady=10)\n",
    "\n",
    "kilometer_entry = Entry(width=20)\n",
    "kilometer_entry.get()\n",
    "kilometer_entry.grid(column=2, row=0)\n",
    "\n",
    "\n",
    "\n",
    "\n",
    "window.mainloop()"
   ]
  }
 ],
 "metadata": {
  "kernelspec": {
   "display_name": "Python 3.10.5 64-bit",
   "language": "python",
   "name": "python3"
  },
  "language_info": {
   "codemirror_mode": {
    "name": "ipython",
    "version": 3
   },
   "file_extension": ".py",
   "mimetype": "text/x-python",
   "name": "python",
   "nbconvert_exporter": "python",
   "pygments_lexer": "ipython3",
   "version": "3.10.5"
  },
  "orig_nbformat": 4,
  "vscode": {
   "interpreter": {
    "hash": "d3e62f1c73f34bdbb77f5af15d5574729d31a5e45fa66254cb5a63be8e5f6de4"
   }
  }
 },
 "nbformat": 4,
 "nbformat_minor": 2
}
